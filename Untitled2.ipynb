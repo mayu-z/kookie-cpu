{
  "nbformat": 4,
  "nbformat_minor": 0,
  "metadata": {
    "colab": {
      "provenance": [],
      "authorship_tag": "ABX9TyO8uWTegTdQ7vwtoG/S+W74",
      "include_colab_link": true
    },
    "kernelspec": {
      "name": "python3",
      "display_name": "Python 3"
    },
    "language_info": {
      "name": "python"
    }
  },
  "cells": [
    {
      "cell_type": "markdown",
      "metadata": {
        "id": "view-in-github",
        "colab_type": "text"
      },
      "source": [
        "<a href=\"https://colab.research.google.com/github/mayu-z/kookie-cpu/blob/main/Untitled2.ipynb\" target=\"_parent\"><img src=\"https://colab.research.google.com/assets/colab-badge.svg\" alt=\"Open In Colab\"/></a>"
      ]
    },
    {
      "cell_type": "code",
      "execution_count": 4,
      "metadata": {
        "colab": {
          "base_uri": "https://localhost:8080/"
        },
        "id": "T-6V_aEYN0dt",
        "outputId": "fd2cddfc-a59b-416d-eff3-e663ce7eed69"
      },
      "outputs": [
        {
          "output_type": "stream",
          "name": "stdout",
          "text": [
            "Enter n: 5\n",
            "Enter k: 5\n",
            "Brute Force method n^k: 1\n",
            "Divide and Conquer method: 1\n"
          ]
        }
      ],
      "source": [
        "import sys\n",
        "\n",
        "def binomialCoeff_BF(n, k, memo={}):\n",
        "\n",
        "    if (n, k) in memo:\n",
        "        return memo[(n, k)]\n",
        "\n",
        "    if k > n:\n",
        "        return 0\n",
        "    if k == 0 or k == n:\n",
        "        return 1\n",
        "\n",
        "\n",
        "    result = binomialCoeff_BF(n - 1, k - 1, memo) + binomialCoeff_BF(n - 1, k, memo)\n",
        "\n",
        "\n",
        "    memo[(n, k)] = result\n",
        "    return result\n",
        "\n",
        "\n",
        "def binomialCoeff_DC(n, k):\n",
        "\n",
        "    C = [[0 for x in range(k + 1)] for x in range(n + 1)]\n",
        "\n",
        "    for i in range(n + 1):\n",
        "        for j in range(min(i, k) + 1):\n",
        "            if j == 0 or j == i:\n",
        "                C[i][j] = 1\n",
        "            else:\n",
        "                C[i][j] = C[i - 1][j - 1] + C[i - 1][j]\n",
        "\n",
        "    return C[n][k]\n",
        "\n",
        "\n",
        "n = int(input(\"Enter n: \"))\n",
        "k = int(input(\"Enter k: \"))\n",
        "\n",
        "\n",
        "sys.setrecursionlimit(10000)\n",
        "\n",
        "\n",
        "print(\"Brute Force method n^k:\", binomialCoeff_BF(n, k))\n",
        "print(\"Divide and Conquer method:\", binomialCoeff_DC(n, k))"
      ]
    }
  ]
}